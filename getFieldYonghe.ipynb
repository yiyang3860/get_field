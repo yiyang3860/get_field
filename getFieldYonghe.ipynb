{
 "cells": [
  {
   "cell_type": "code",
   "execution_count": 180,
   "metadata": {},
   "outputs": [],
   "source": [
    "import config\n",
    "import json\n",
    "from selenium import webdriver\n",
    "from selenium.webdriver.support.ui import WebDriverWait\n",
    "from selenium.webdriver.support import expected_conditions as EC\n",
    "import re\n",
    "import pytesseract\n",
    "from PIL import Image\n",
    "import datetime\n",
    "import time\n",
    "from apscheduler.schedulers.tornado import TornadoScheduler\n",
    "import math\n"
   ]
  },
  {
   "cell_type": "code",
   "execution_count": 197,
   "metadata": {},
   "outputs": [
    {
     "name": "stdout",
     "output_type": "stream",
     "text": [
      "{'login_url': 'https://scr.cyc.org.tw/tp10.aspx?Module=login_page&files=login', 'ID': 'E124262687', 'Password': 'a94003810912', 'active_day': [1, 3, 5]}\n"
     ]
    }
   ],
   "source": [
    "with open('config.py', 'r', encoding='utf-8') as f:\n",
    "    config = json.load(f)\n",
    "    print(config)"
   ]
  },
  {
   "cell_type": "code",
   "execution_count": 95,
   "metadata": {},
   "outputs": [],
   "source": [
    "def init_driver(config):\n",
    "    driver = webdriver.Chrome('./chromedriver')\n",
    "    driver.get(config['login_url'])\n",
    "    WebDriverWait(driver, 10).until(EC.alert_is_present())\n",
    "    driver.switch_to.alert.accept()\n",
    "    driver.switch_to.alert.accept()\n",
    "    return driver"
   ]
  },
  {
   "cell_type": "code",
   "execution_count": 88,
   "metadata": {},
   "outputs": [],
   "source": [
    "def get_captcha_image(driver):\n",
    "    img = driver.find_element_by_xpath('//*[@id=\"ContentPlaceHolder1_CaptchaImage\"]')\n",
    "    time.sleep(1)\n",
    "    location = img.location\n",
    "    size = img.size\n",
    "    # left = location['x']\n",
    "    # top = location['y']\n",
    "    # right = left + size['width']\n",
    "    # bottom = top + size['height']\n",
    "    left = 2 * location['x']\n",
    "    top = 2 * location['y']\n",
    "    right = left + 2 * size['width'] - 10\n",
    "    bottom = top + 2 * size['height']\n",
    "    driver.save_screenshot('valicode.png')\n",
    "    page_snap_obj = Image.open('valicode.png')\n",
    "    image_obj = page_snap_obj.crop((left, top, right, bottom))\n",
    "    image_obj.show()\n",
    "    return image_obj"
   ]
  },
  {
   "cell_type": "code",
   "execution_count": 89,
   "metadata": {},
   "outputs": [],
   "source": [
    "def image_handler(image_obj):\n",
    "    img = image_obj.convert(\"L\")  # 轉灰度圖\n",
    "    pixdata = img.load()\n",
    "    w, h = img.size\n",
    "    threshold = 100\n",
    "    # 遍歷所有畫素，大於閾值的為黑色\n",
    "    for y in range(h):\n",
    "        for x in range(w):\n",
    "            if pixdata[x, y] < threshold:\n",
    "                pixdata[x, y] = 0\n",
    "            else:\n",
    "                pixdata[x, y] = 255\n",
    "    data = img.getdata()\n",
    "    w, h = img.size\n",
    "    black_point = 0\n",
    "    for x in range(1, w - 1):\n",
    "        for y in range(1, h - 1):\n",
    "            mid_pixel = data[w * y + x]\n",
    "            if mid_pixel < 50:\n",
    "                top_pixel = data[w * (y - 1) + x]\n",
    "                left_pixel = data[w * y + (x - 1)]\n",
    "                down_pixel = data[w * (y + 1) + x]\n",
    "                right_pixel = data[w * y + (x + 1)]\n",
    "                if top_pixel < 10:\n",
    "                    black_point += 1\n",
    "                if left_pixel < 10:\n",
    "                    black_point += 1\n",
    "                if down_pixel < 10:\n",
    "                    black_point += 1\n",
    "                if right_pixel < 10:\n",
    "                    black_point += 1\n",
    "                if black_point < 1:\n",
    "                    img.putpixel((x, y), 255)\n",
    "                black_point = 0\n",
    "    img.show()\n",
    "    return img"
   ]
  },
  {
   "cell_type": "code",
   "execution_count": 90,
   "metadata": {},
   "outputs": [],
   "source": [
    "def trans_img_2_string(img):\n",
    "    result = pytesseract.image_to_string(img)\n",
    "    # 可能存在異常符號，用正則提取其中的數字\n",
    "    print(result)\n",
    "    regex = '\\d+'\n",
    "    result = ''.join(re.findall(regex, result))\n",
    "    print(result)\n",
    "    return result"
   ]
  },
  {
   "cell_type": "code",
   "execution_count": 105,
   "metadata": {},
   "outputs": [],
   "source": [
    "\n",
    "'''\n",
    "使用者登入\n",
    "'''\n",
    "def user_login(driver, user_id, user_password, captcha_ans):\n",
    "    account = driver.find_element_by_xpath('//*[@id=\"ContentPlaceHolder1_loginid\"]')\n",
    "    account.clear()\n",
    "    account.send_keys(user_id)\n",
    "    password = driver.find_element_by_xpath('//*[@id=\"loginpw\"]')\n",
    "    password.clear()\n",
    "    password.send_keys(user_password)\n",
    "    captcha = driver.find_element_by_xpath('//*[@id=\"ContentPlaceHolder1_Captcha_text\"]')\n",
    "    captcha.clear()\n",
    "    captcha.send_keys(captcha_ans)\n",
    "    driver.find_element_by_xpath('//*[@id=\"login_but\"]').click()"
   ]
  },
  {
   "cell_type": "code",
   "execution_count": 199,
   "metadata": {},
   "outputs": [],
   "source": [
    "def get_week_day(date):\n",
    "    week_day = date.weekday()\n",
    "    return week_day"
   ]
  },
  {
   "cell_type": "code",
   "execution_count": 200,
   "metadata": {},
   "outputs": [
    {
     "data": {
      "text/plain": [
       "1"
      ]
     },
     "execution_count": 200,
     "metadata": {},
     "output_type": "execute_result"
    }
   ],
   "source": [
    "get_week_day(datetime.datetime.today())"
   ]
  },
  {
   "cell_type": "code",
   "execution_count": 137,
   "metadata": {},
   "outputs": [
    {
     "data": {
      "text/plain": [
       "'https://scr.cyc.org.tw/tp10.aspx?module=net_booking&files=booking_place&StepFlag=25&QPid=1136'"
      ]
     },
     "execution_count": 137,
     "metadata": {},
     "output_type": "execute_result"
    }
   ],
   "source": [
    "def get_QPid(base_url, field_id):\n",
    "    trans_obj = {\n",
    "        \"1\": 1133,\n",
    "        \"2\": 1134,\n",
    "        \"3\": 1135,\n",
    "        \"4\": 1136,\n",
    "        \"5\": 1137,\n",
    "        \"6\": 1138,\n",
    "    }\n",
    "    target_QPid = base_url + '&QPid={}'.format(trans_obj[field_id])\n",
    "    return target_QPid\n"
   ]
  },
  {
   "cell_type": "code",
   "execution_count": 132,
   "metadata": {},
   "outputs": [],
   "source": [
    "def get_QTime(base_url, time):\n",
    "    target_QTime = base_url + '&QTime={}'.format(time)\n",
    "    return target_QTime"
   ]
  },
  {
   "cell_type": "code",
   "execution_count": 133,
   "metadata": {},
   "outputs": [
    {
     "name": "stdout",
     "output_type": "stream",
     "text": [
      "2021/11/26\n"
     ]
    },
    {
     "data": {
      "text/plain": [
       "'https://scr.cyc.org.tw/tp10.aspx?module=net_booking&files=booking_place&StepFlag=25&QPid=1136&QTime=22&D=2021/11/26'"
      ]
     },
     "execution_count": 133,
     "metadata": {},
     "output_type": "execute_result"
    }
   ],
   "source": [
    "def get_Date(base_url):\n",
    "    today = datetime.datetime.today()\n",
    "    target_day = today + datetime.timedelta(days=14)\n",
    "    target_day_string = datetime.datetime.strftime(target_day, '%Y/%m/%d')\n",
    "    print(target_day_string)\n",
    "    target_Date = base_url + '&D={}'.format(target_day_string)\n",
    "    return target_Date"
   ]
  },
  {
   "cell_type": "code",
   "execution_count": 141,
   "metadata": {},
   "outputs": [],
   "source": [
    "def get_field(base_url, QPid, time):\n",
    "    base_url = get_QPid(base_url, QPid)\n",
    "    base_url = get_QTime(base_url, time)\n",
    "    base_url = get_Date(base_url)\n",
    "    return base_url"
   ]
  },
  {
   "cell_type": "code",
   "execution_count": 65,
   "metadata": {},
   "outputs": [],
   "source": [
    "url = 'https://scr.cyc.org.tw/tp10.aspx?module=net_booking&files=booking_place&StepFlag=25&QPid=1136&QTime=6&PT=1&D=2021/11/24'\n",
    "driver.get(url)\n"
   ]
  },
  {
   "cell_type": "code",
   "execution_count": null,
   "metadata": {},
   "outputs": [],
   "source": [
    "def field_handler(week_day):\n",
    "    field_url = []\n",
    "    if week_day == 1:\n",
    "        \n",
    "    elif week_day == 3:\n",
    "    elif week_day == 5:\n",
    "    return field_url\n"
   ]
  },
  {
   "cell_type": "code",
   "execution_count": 186,
   "metadata": {},
   "outputs": [],
   "source": [
    "def main():\n",
    "    try:\n",
    "        with open('config.py', 'r', encoding='utf-8') as f:\n",
    "            config = json.load(f)\n",
    "            print(config)\n",
    "        week_day = get_week_day(datetime.datetime.today())\n",
    "        if week_day in config[\"active_day\"]:\n",
    "            global driver\n",
    "            driver = init_driver(config)\n",
    "            captcha_img = get_captcha_image(driver)\n",
    "            captcha_img_gray = image_handler(captcha_img)\n",
    "            captcha_ans = trans_img_2_string(captcha_img_gray)\n",
    "            user_login(driver, config[\"ID\"], config[\"Password\"], captcha_ans)\n",
    "            global url_list\n",
    "            url_list = []\n",
    "            base_url = \"https://scr.cyc.org.tw/tp10.aspx?module=net_booking&files=booking_place&StepFlag=25\"\n",
    "            # 判斷星期幾要搶不同時段, 例如：週間搶20-22, 週末搶12-18\n",
    "            field_url = field_handler(base_url, week_day)\n",
    "            url_list.append(get_field(base_url, \"4\", 20))\n",
    "            url_list.append(get_field(base_url, \"4\", 21))\n",
    "            print(url_list)\n",
    "            for t in range(len(url_list)):\n",
    "                driver.execute_script(\"window.open('');\")\n",
    "            tomorrow_noon = datetime.datetime.combine(datetime.datetime.now().date(), datetime.time(0,0)) + datetime.timedelta(1)\n",
    "            diff_time = tomorrow_noon - datetime.datetime.now()\n",
    "            time.sleep(round(diff_time.total_seconds()))\n",
    "            for i in range(len(url_list)):\n",
    "                driver.switch_to.window(driver.window_handles[i+1])\n",
    "                driver.get(url_list[i])\n",
    "            time.sleep(5)\n",
    "            driver.close()\n",
    "        except Exception as error:\n",
    "            print(error)\n",
    "\n",
    "\n"
   ]
  },
  {
   "cell_type": "code",
   "execution_count": 187,
   "metadata": {},
   "outputs": [
    {
     "name": "stdout",
     "output_type": "stream",
     "text": [
      "{'login_url': 'https://scr.cyc.org.tw/tp10.aspx?Module=login_page&files=login', 'ID': 'E124262687', 'Password': 'a94003810912'}\n"
     ]
    },
    {
     "name": "stderr",
     "output_type": "stream",
     "text": [
      "<ipython-input-95-69d0cb5138e1>:2: DeprecationWarning: executable_path has been deprecated, please pass in a Service object\n",
      "  driver = webdriver.Chrome('./chromedriver')\n",
      "<ipython-input-88-51868adac0b3>:2: DeprecationWarning: find_element_by_* commands are deprecated. Please use find_element() instead\n",
      "  img = driver.find_element_by_xpath('//*[@id=\"ContentPlaceHolder1_CaptchaImage\"]')\n"
     ]
    },
    {
     "name": "stdout",
     "output_type": "stream",
     "text": [
      "56080\n",
      "\f\n",
      "56080\n"
     ]
    },
    {
     "name": "stderr",
     "output_type": "stream",
     "text": [
      "<ipython-input-105-155c8b45d397>:5: DeprecationWarning: find_element_by_* commands are deprecated. Please use find_element() instead\n",
      "  account = driver.find_element_by_xpath('//*[@id=\"ContentPlaceHolder1_loginid\"]')\n",
      "<ipython-input-105-155c8b45d397>:8: DeprecationWarning: find_element_by_* commands are deprecated. Please use find_element() instead\n",
      "  password = driver.find_element_by_xpath('//*[@id=\"loginpw\"]')\n",
      "<ipython-input-105-155c8b45d397>:11: DeprecationWarning: find_element_by_* commands are deprecated. Please use find_element() instead\n",
      "  captcha = driver.find_element_by_xpath('//*[@id=\"ContentPlaceHolder1_Captcha_text\"]')\n",
      "<ipython-input-105-155c8b45d397>:14: DeprecationWarning: find_element_by_* commands are deprecated. Please use find_element() instead\n",
      "  driver.find_element_by_xpath('//*[@id=\"login_but\"]').click()\n"
     ]
    },
    {
     "name": "stdout",
     "output_type": "stream",
     "text": [
      "2021/11/26\n",
      "2021/11/26\n",
      "['https://scr.cyc.org.tw/tp10.aspx?module=net_booking&files=booking_place&StepFlag=25&QPid=1136&QTime=20&D=2021/11/26', 'https://scr.cyc.org.tw/tp10.aspx?module=net_booking&files=booking_place&StepFlag=25&QPid=1136&QTime=21&D=2021/11/26']\n"
     ]
    }
   ],
   "source": [
    "scheduler = TornadoScheduler()\n",
    "scheduler.add_job(main, \"cron\", hour=23, minute=57, second=0)\n",
    "# scheduler.add_job(main, \"cron\", hour=0, minute=0, second=0)\n",
    "scheduler.start()\n"
   ]
  },
  {
   "cell_type": "code",
   "execution_count": 154,
   "metadata": {},
   "outputs": [
    {
     "name": "stdout",
     "output_type": "stream",
     "text": [
      "{'login_url': 'https://scr.cyc.org.tw/tp10.aspx?Module=login_page&files=login', 'ID': 'E124262687', 'Password': 'a94003810912'}\n"
     ]
    },
    {
     "name": "stderr",
     "output_type": "stream",
     "text": [
      "<ipython-input-95-69d0cb5138e1>:2: DeprecationWarning: executable_path has been deprecated, please pass in a Service object\n",
      "  driver = webdriver.Chrome('./chromedriver')\n",
      "<ipython-input-88-51868adac0b3>:2: DeprecationWarning: find_element_by_* commands are deprecated. Please use find_element() instead\n",
      "  img = driver.find_element_by_xpath('//*[@id=\"ContentPlaceHolder1_CaptchaImage\"]')\n"
     ]
    },
    {
     "name": "stdout",
     "output_type": "stream",
     "text": [
      "64203\n",
      "\f\n",
      "64203\n"
     ]
    },
    {
     "name": "stderr",
     "output_type": "stream",
     "text": [
      "<ipython-input-105-155c8b45d397>:5: DeprecationWarning: find_element_by_* commands are deprecated. Please use find_element() instead\n",
      "  account = driver.find_element_by_xpath('//*[@id=\"ContentPlaceHolder1_loginid\"]')\n",
      "<ipython-input-105-155c8b45d397>:8: DeprecationWarning: find_element_by_* commands are deprecated. Please use find_element() instead\n",
      "  password = driver.find_element_by_xpath('//*[@id=\"loginpw\"]')\n",
      "<ipython-input-105-155c8b45d397>:11: DeprecationWarning: find_element_by_* commands are deprecated. Please use find_element() instead\n",
      "  captcha = driver.find_element_by_xpath('//*[@id=\"ContentPlaceHolder1_Captcha_text\"]')\n",
      "<ipython-input-105-155c8b45d397>:14: DeprecationWarning: find_element_by_* commands are deprecated. Please use find_element() instead\n",
      "  driver.find_element_by_xpath('//*[@id=\"login_but\"]').click()\n"
     ]
    },
    {
     "name": "stdout",
     "output_type": "stream",
     "text": [
      "2021/11/26\n",
      "2021/11/26\n",
      "['https://scr.cyc.org.tw/tp10.aspx?module=net_booking&files=booking_place&StepFlag=25&QPid=1136&QTime=20&D=2021/11/26', 'https://scr.cyc.org.tw/tp10.aspx?module=net_booking&files=booking_place&StepFlag=25&QPid=1136&QTime=21&D=2021/11/26']\n"
     ]
    }
   ],
   "source": [
    "main()"
   ]
  },
  {
   "cell_type": "code",
   "execution_count": 179,
   "metadata": {},
   "outputs": [
    {
     "data": {
      "text/plain": [
       "-226.131343"
      ]
     },
     "execution_count": 179,
     "metadata": {},
     "output_type": "execute_result"
    }
   ],
   "source": [
    "tomorrow_noon = datetime.datetime.strptime(\"2021-11-12 16:10:00\", \"%Y-%m-%d %H:%M:%S\")\n",
    "diff_time = tomorrow_noon - datetime.datetime.now()\n",
    "round(diff_time.total_seconds())\n"
   ]
  }
 ],
 "metadata": {
  "interpreter": {
   "hash": "0adcc2737ebf6a4a119f135174df96668767fca1ef1112612db5ecadf2b6d608"
  },
  "kernelspec": {
   "display_name": "Python 3.8.5 64-bit",
   "name": "python3"
  },
  "language_info": {
   "codemirror_mode": {
    "name": "ipython",
    "version": 3
   },
   "file_extension": ".py",
   "mimetype": "text/x-python",
   "name": "python",
   "nbconvert_exporter": "python",
   "pygments_lexer": "ipython3",
   "version": "3.8.5"
  },
  "orig_nbformat": 4
 },
 "nbformat": 4,
 "nbformat_minor": 2
}
