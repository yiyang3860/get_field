{
 "cells": [
  {
   "cell_type": "code",
   "execution_count": 233,
   "metadata": {},
   "outputs": [],
   "source": [
    "import config\n",
    "import json\n",
    "import re\n",
    "import pytesseract\n",
    "from PIL import Image\n",
    "import datetime\n",
    "import time\n",
    "import math\n",
    "from selenium import webdriver\n",
    "from selenium.webdriver.support.ui import WebDriverWait\n",
    "from selenium.webdriver.support import expected_conditions as EC\n",
    "from apscheduler.schedulers.tornado import TornadoScheduler\n",
    "from flask import Flask"
   ]
  },
  {
   "cell_type": "code",
   "execution_count": 234,
   "metadata": {},
   "outputs": [
    {
     "name": "stdout",
     "output_type": "stream",
     "text": [
      "{'login_url': 'https://scr.cyc.org.tw/tp10.aspx?Module=login_page&files=login', 'ID': 'E124262687', 'Password': 'a94003810912', 'active_day': [1, 3, 5]}\n"
     ]
    }
   ],
   "source": [
    "with open('config.py', 'r', encoding='utf-8') as f:\n",
    "    config = json.load(f)"
   ]
  },
  {
   "cell_type": "code",
   "execution_count": 260,
   "metadata": {},
   "outputs": [],
   "source": [
    "def get_chrome():\n",
    "    op = webdriver.ChromeOptions()\n",
    "    op.binary_location = os.environ.get(\"GOOGLE_CHROME_BIN\")\n",
    "    op.add_argument(\"--headless\")\n",
    "    op.add_argument(\"--disable-dev-shm-usage\")\n",
    "    op.add_argument(\"--no-sandbox\")\n",
    "\n",
    "    '''\n",
    "    # avoid detection 好孩子先不要 ^.<\n",
    "    op.add_argument('--disable-infobars')\n",
    "    op.add_experimental_option('useAutomationExtension', False)\n",
    "    op.add_experimental_option(\"excludeSwitches\", [\"enable-automation\"])\n",
    "    '''\n",
    "\n",
    "    return webdriver.Chrome(executable_path=os.environ.get(\"CHROMEDRIVER_PATH\"), options=op)\n"
   ]
  },
  {
   "cell_type": "code",
   "execution_count": 235,
   "metadata": {},
   "outputs": [],
   "source": [
    "def init_driver(config):\n",
    "    # driver = webdriver.Chrome('./chromedriver')\n",
    "    driver = get_chrome()\n",
    "    driver.get(config['login_url'])\n",
    "    WebDriverWait(driver, 10).until(EC.alert_is_present())\n",
    "    driver.switch_to.alert.accept()\n",
    "    driver.switch_to.alert.accept()\n",
    "    return driver"
   ]
  },
  {
   "cell_type": "code",
   "execution_count": 236,
   "metadata": {},
   "outputs": [],
   "source": [
    "def get_captcha_image(driver):\n",
    "    img = driver.find_element_by_xpath('//*[@id=\"ContentPlaceHolder1_CaptchaImage\"]')\n",
    "    time.sleep(1)\n",
    "    location = img.location\n",
    "    size = img.size\n",
    "    # left = location['x']\n",
    "    # top = location['y']\n",
    "    # right = left + size['width']\n",
    "    # bottom = top + size['height']\n",
    "    left = 2 * location['x']\n",
    "    top = 2 * location['y']\n",
    "    right = left + 2 * size['width'] - 10\n",
    "    bottom = top + 2 * size['height']\n",
    "    driver.save_screenshot('valicode.png')\n",
    "    page_snap_obj = Image.open('valicode.png')\n",
    "    image_obj = page_snap_obj.crop((left, top, right, bottom))\n",
    "    image_obj.show()\n",
    "    return image_obj"
   ]
  },
  {
   "cell_type": "code",
   "execution_count": 237,
   "metadata": {},
   "outputs": [],
   "source": [
    "def image_handler(image_obj):\n",
    "    img = image_obj.convert(\"L\")  # 轉灰度圖\n",
    "    pixdata = img.load()\n",
    "    w, h = img.size\n",
    "    threshold = 100\n",
    "    # 遍歷所有畫素，大於閾值的為黑色\n",
    "    for y in range(h):\n",
    "        for x in range(w):\n",
    "            if pixdata[x, y] < threshold:\n",
    "                pixdata[x, y] = 0\n",
    "            else:\n",
    "                pixdata[x, y] = 255\n",
    "    data = img.getdata()\n",
    "    w, h = img.size\n",
    "    black_point = 0\n",
    "    for x in range(1, w - 1):\n",
    "        for y in range(1, h - 1):\n",
    "            mid_pixel = data[w * y + x]\n",
    "            if mid_pixel < 50:\n",
    "                top_pixel = data[w * (y - 1) + x]\n",
    "                left_pixel = data[w * y + (x - 1)]\n",
    "                down_pixel = data[w * (y + 1) + x]\n",
    "                right_pixel = data[w * y + (x + 1)]\n",
    "                if top_pixel < 10:\n",
    "                    black_point += 1\n",
    "                if left_pixel < 10:\n",
    "                    black_point += 1\n",
    "                if down_pixel < 10:\n",
    "                    black_point += 1\n",
    "                if right_pixel < 10:\n",
    "                    black_point += 1\n",
    "                if black_point < 1:\n",
    "                    img.putpixel((x, y), 255)\n",
    "                black_point = 0\n",
    "    img.show()\n",
    "    return img"
   ]
  },
  {
   "cell_type": "code",
   "execution_count": 238,
   "metadata": {},
   "outputs": [],
   "source": [
    "def trans_img_2_string(img):\n",
    "    result = pytesseract.image_to_string(img)\n",
    "    # 可能存在異常符號，用正則提取其中的數字\n",
    "    print(result)\n",
    "    regex = '\\d+'\n",
    "    result = ''.join(re.findall(regex, result))\n",
    "    print(result)\n",
    "    return result"
   ]
  },
  {
   "cell_type": "code",
   "execution_count": 239,
   "metadata": {},
   "outputs": [],
   "source": [
    "\n",
    "'''\n",
    "使用者登入\n",
    "'''\n",
    "def user_login(driver, user_id, user_password, captcha_ans):\n",
    "    account = driver.find_element_by_xpath('//*[@id=\"ContentPlaceHolder1_loginid\"]')\n",
    "    account.clear()\n",
    "    account.send_keys(user_id)\n",
    "    password = driver.find_element_by_xpath('//*[@id=\"loginpw\"]')\n",
    "    password.clear()\n",
    "    password.send_keys(user_password)\n",
    "    captcha = driver.find_element_by_xpath('//*[@id=\"ContentPlaceHolder1_Captcha_text\"]')\n",
    "    captcha.clear()\n",
    "    captcha.send_keys(captcha_ans)\n",
    "    driver.find_element_by_xpath('//*[@id=\"login_but\"]').click()"
   ]
  },
  {
   "cell_type": "code",
   "execution_count": 240,
   "metadata": {},
   "outputs": [],
   "source": [
    "def get_week_day(date):\n",
    "    week_day = date.weekday()\n",
    "    return week_day"
   ]
  },
  {
   "cell_type": "code",
   "execution_count": 241,
   "metadata": {},
   "outputs": [],
   "source": [
    "def get_QPid(base_url, field_id):\n",
    "    trans_obj = {\n",
    "        \"1\": 1133,\n",
    "        \"2\": 1134,\n",
    "        \"3\": 1135,\n",
    "        \"4\": 1136,\n",
    "        \"5\": 1137,\n",
    "        \"6\": 1138,\n",
    "    }\n",
    "    target_QPid = base_url + '&QPid={}'.format(trans_obj[field_id])\n",
    "    return target_QPid\n"
   ]
  },
  {
   "cell_type": "code",
   "execution_count": 242,
   "metadata": {},
   "outputs": [],
   "source": [
    "def get_QTime(base_url, time):\n",
    "    target_QTime = base_url + '&QTime={}'.format(time)\n",
    "    return target_QTime"
   ]
  },
  {
   "cell_type": "code",
   "execution_count": 243,
   "metadata": {},
   "outputs": [],
   "source": [
    "def get_Date(base_url):\n",
    "    today = datetime.datetime.today()\n",
    "    target_day = today + datetime.timedelta(days=14)\n",
    "    target_day_string = datetime.datetime.strftime(target_day, '%Y/%m/%d')\n",
    "    target_Date = base_url + '&D={}'.format(target_day_string)\n",
    "    return target_Date"
   ]
  },
  {
   "cell_type": "code",
   "execution_count": 244,
   "metadata": {},
   "outputs": [],
   "source": [
    "def get_field(base_url, QPid, time):\n",
    "    base_url = get_QPid(base_url, QPid)\n",
    "    base_url = get_QTime(base_url, time)\n",
    "    base_url = get_Date(base_url)\n",
    "    return base_url"
   ]
  },
  {
   "cell_type": "code",
   "execution_count": 245,
   "metadata": {},
   "outputs": [],
   "source": [
    "def field_handler(base_url, week_day):\n",
    "    field_url = []\n",
    "    if week_day == 1:\n",
    "        field_url.append(get_field(base_url, \"4\", 20))\n",
    "        field_url.append(get_field(base_url, \"4\", 21))\n",
    "    elif week_day == 3:\n",
    "        field_url.append(get_field(base_url, \"4\", 20))\n",
    "        field_url.append(get_field(base_url, \"4\", 21))\n",
    "    elif week_day == 5:\n",
    "        for f in range(12, 19):\n",
    "            field_url.append(get_field(base_url, \"3\", f))\n",
    "            field_url.append(get_field(base_url, \"4\", f))\n",
    "    return field_url"
   ]
  },
  {
   "cell_type": "code",
   "execution_count": 266,
   "metadata": {},
   "outputs": [],
   "source": [
    "def main():\n",
    "    try:\n",
    "        with open('config.py', 'r', encoding='utf-8') as f:\n",
    "            config = json.load(f)\n",
    "        week_day = get_week_day(datetime.datetime.today())\n",
    "        if week_day in config[\"active_day\"]:\n",
    "            global driver\n",
    "            driver = init_driver(config)\n",
    "            captcha_img = get_captcha_image(driver)\n",
    "            captcha_img_gray = image_handler(captcha_img)\n",
    "            captcha_ans = trans_img_2_string(captcha_img_gray)\n",
    "            user_login(driver, config[\"ID\"], config[\"Password\"], captcha_ans)\n",
    "            global url_list\n",
    "            url_list = []\n",
    "            base_url = \"https://scr.cyc.org.tw/tp10.aspx?module=net_booking&files=booking_place&StepFlag=25\"\n",
    "            # 判斷星期幾要搶不同時段, 例如：週間搶20-22, 週末搶12-18\n",
    "            field_url = field_handler(base_url, week_day)\n",
    "            url_list = field_url.copy()\n",
    "            # url_list.append(get_field(base_url, \"4\", 20))\n",
    "            # url_list.append(get_field(base_url, \"4\", 21))\n",
    "            print(url_list)\n",
    "            for t in range(len(url_list)):\n",
    "                driver.execute_script(\"window.open('');\")\n",
    "            tomorrow_noon = datetime.datetime.combine(datetime.datetime.now().date(), datetime.time(0,0)) + datetime.timedelta(1)\n",
    "            diff_time = tomorrow_noon - datetime.datetime.now()\n",
    "            time.sleep(round(diff_time.total_seconds()))\n",
    "            for i in range(len(url_list)):\n",
    "                driver.switch_to.window(driver.window_handles[i+1])\n",
    "                driver.get(url_list[i])\n",
    "            time.sleep(5)\n",
    "            driver.close()\n",
    "    except Exception as error:\n",
    "        print(error)\n",
    "\n",
    "\n"
   ]
  },
  {
   "cell_type": "code",
   "execution_count": 265,
   "metadata": {},
   "outputs": [],
   "source": [
    "def init_scheduler():\n",
    "    scheduler = TornadoScheduler()\n",
    "    scheduler.add_job(main, \"cron\", hour=23, minute=57, second=0)\n",
    "    # scheduler.add_job(main, \"cron\", hour=0, minute=0, second=0)\n",
    "    scheduler.start()\n"
   ]
  },
  {
   "cell_type": "code",
   "execution_count": 268,
   "metadata": {},
   "outputs": [
    {
     "name": "stdout",
     "output_type": "stream",
     "text": [
      "['https://scr.cyc.org.tw/tp10.aspx?module=net_booking&files=booking_place&StepFlag=25&QPid=1136&QTime=20&D=2021/11/30', 'https://scr.cyc.org.tw/tp10.aspx?module=net_booking&files=booking_place&StepFlag=25&QPid=1136&QTime=21&D=2021/11/30']\n",
      "['https://scr.cyc.org.tw/tp10.aspx?module=net_booking&files=booking_place&StepFlag=25&QPid=1136&QTime=20&D=2021/11/30', 'https://scr.cyc.org.tw/tp10.aspx?module=net_booking&files=booking_place&StepFlag=25&QPid=1136&QTime=21&D=2021/11/30']\n"
     ]
    }
   ],
   "source": [
    "init_scheduler()"
   ]
  },
  {
   "cell_type": "code",
   "execution_count": 259,
   "metadata": {},
   "outputs": [
    {
     "name": "stdout",
     "output_type": "stream",
     "text": [
      " * Serving Flask app \"__main__\" (lazy loading)\n",
      " * Environment: production\n",
      "\u001b[31m   WARNING: This is a development server. Do not use it in a production deployment.\u001b[0m\n",
      "\u001b[2m   Use a production WSGI server instead.\u001b[0m\n",
      " * Debug mode: on\n"
     ]
    },
    {
     "name": "stderr",
     "output_type": "stream",
     "text": [
      " * Running on http://0.0.0.0:5000/ (Press CTRL+C to quit)\n",
      " * Restarting with stat\n"
     ]
    },
    {
     "ename": "SystemExit",
     "evalue": "1",
     "output_type": "error",
     "traceback": [
      "An exception has occurred, use %tb to see the full traceback.\n",
      "\u001b[0;31mSystemExit\u001b[0m\u001b[0;31m:\u001b[0m 1\n"
     ]
    }
   ],
   "source": [
    "app = Flask(__name__)\n",
    "\n",
    "@app.route(\"/\")\n",
    "def hello_world():\n",
    "    return \"<p>Hello, World!</p>\"\n",
    "if __name__ == '__main__':\n",
    "    print(\"init_app\")\n",
    "    init_scheduler()\n",
    "    print(\"run_schedule\")"
   ]
  }
 ],
 "metadata": {
  "interpreter": {
   "hash": "0adcc2737ebf6a4a119f135174df96668767fca1ef1112612db5ecadf2b6d608"
  },
  "kernelspec": {
   "display_name": "Python 3.8.5 64-bit",
   "name": "python3"
  },
  "language_info": {
   "codemirror_mode": {
    "name": "ipython",
    "version": 3
   },
   "file_extension": ".py",
   "mimetype": "text/x-python",
   "name": "python",
   "nbconvert_exporter": "python",
   "pygments_lexer": "ipython3",
   "version": "3.8.5"
  },
  "orig_nbformat": 4
 },
 "nbformat": 4,
 "nbformat_minor": 2
}
